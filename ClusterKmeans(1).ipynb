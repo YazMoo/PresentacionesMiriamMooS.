{
 "cells": [
  {
   "cell_type": "code",
   "execution_count": 3,
   "metadata": {},
   "outputs": [],
   "source": [
    "# Importamos librerias\n",
    "import pandas as pd\n",
    "import matplotlib.pyplot as plt"
   ]
  },
  {
   "cell_type": "code",
   "execution_count": 7,
   "metadata": {},
   "outputs": [],
   "source": [
    "# Cargamos los datos\n",
    "data = pd.read_csv('Wholesale customers data.csv')"
   ]
  },
  {
   "cell_type": "code",
   "execution_count": 8,
   "metadata": {},
   "outputs": [
    {
     "data": {
      "text/plain": [
       "(440, 8)"
      ]
     },
     "execution_count": 8,
     "metadata": {},
     "output_type": "execute_result"
    }
   ],
   "source": [
    "# Analizamos tipos de datos\n",
    "data.shape"
   ]
  },
  {
   "cell_type": "code",
   "execution_count": 9,
   "metadata": {},
   "outputs": [
    {
     "data": {
      "text/plain": [
       "Channel             0\n",
       "Region              0\n",
       "Fresh               0\n",
       "Milk                0\n",
       "Grocery             0\n",
       "Frozen              0\n",
       "Detergents_Paper    0\n",
       "Delicassen          0\n",
       "dtype: int64"
      ]
     },
     "execution_count": 9,
     "metadata": {},
     "output_type": "execute_result"
    }
   ],
   "source": [
    "# Calculamos cantidad de valores nulos\n",
    "data.isnull().sum()"
   ]
  },
  {
   "cell_type": "code",
   "execution_count": 10,
   "metadata": {},
   "outputs": [
    {
     "data": {
      "text/plain": [
       "Channel             int64\n",
       "Region              int64\n",
       "Fresh               int64\n",
       "Milk                int64\n",
       "Grocery             int64\n",
       "Frozen              int64\n",
       "Detergents_Paper    int64\n",
       "Delicassen          int64\n",
       "dtype: object"
      ]
     },
     "execution_count": 10,
     "metadata": {},
     "output_type": "execute_result"
    }
   ],
   "source": [
    "# Conocemos el formarto de los datos\n",
    "data.dtypes"
   ]
  },
  {
   "cell_type": "code",
   "execution_count": 11,
   "metadata": {},
   "outputs": [
    {
     "data": {
      "text/html": [
       "<div>\n",
       "<style scoped>\n",
       "    .dataframe tbody tr th:only-of-type {\n",
       "        vertical-align: middle;\n",
       "    }\n",
       "\n",
       "    .dataframe tbody tr th {\n",
       "        vertical-align: top;\n",
       "    }\n",
       "\n",
       "    .dataframe thead th {\n",
       "        text-align: right;\n",
       "    }\n",
       "</style>\n",
       "<table border=\"1\" class=\"dataframe\">\n",
       "  <thead>\n",
       "    <tr style=\"text-align: right;\">\n",
       "      <th></th>\n",
       "      <th>Channel</th>\n",
       "      <th>Region</th>\n",
       "      <th>Fresh</th>\n",
       "      <th>Milk</th>\n",
       "      <th>Grocery</th>\n",
       "      <th>Frozen</th>\n",
       "      <th>Detergents_Paper</th>\n",
       "      <th>Delicassen</th>\n",
       "    </tr>\n",
       "  </thead>\n",
       "  <tbody>\n",
       "    <tr>\n",
       "      <th>0</th>\n",
       "      <td>2</td>\n",
       "      <td>3</td>\n",
       "      <td>12669</td>\n",
       "      <td>9656</td>\n",
       "      <td>7561</td>\n",
       "      <td>214</td>\n",
       "      <td>2674</td>\n",
       "      <td>1338</td>\n",
       "    </tr>\n",
       "    <tr>\n",
       "      <th>1</th>\n",
       "      <td>2</td>\n",
       "      <td>3</td>\n",
       "      <td>7057</td>\n",
       "      <td>9810</td>\n",
       "      <td>9568</td>\n",
       "      <td>1762</td>\n",
       "      <td>3293</td>\n",
       "      <td>1776</td>\n",
       "    </tr>\n",
       "    <tr>\n",
       "      <th>2</th>\n",
       "      <td>2</td>\n",
       "      <td>3</td>\n",
       "      <td>6353</td>\n",
       "      <td>8808</td>\n",
       "      <td>7684</td>\n",
       "      <td>2405</td>\n",
       "      <td>3516</td>\n",
       "      <td>7844</td>\n",
       "    </tr>\n",
       "    <tr>\n",
       "      <th>3</th>\n",
       "      <td>1</td>\n",
       "      <td>3</td>\n",
       "      <td>13265</td>\n",
       "      <td>1196</td>\n",
       "      <td>4221</td>\n",
       "      <td>6404</td>\n",
       "      <td>507</td>\n",
       "      <td>1788</td>\n",
       "    </tr>\n",
       "    <tr>\n",
       "      <th>4</th>\n",
       "      <td>2</td>\n",
       "      <td>3</td>\n",
       "      <td>22615</td>\n",
       "      <td>5410</td>\n",
       "      <td>7198</td>\n",
       "      <td>3915</td>\n",
       "      <td>1777</td>\n",
       "      <td>5185</td>\n",
       "    </tr>\n",
       "  </tbody>\n",
       "</table>\n",
       "</div>"
      ],
      "text/plain": [
       "   Channel  Region  Fresh  Milk  Grocery  Frozen  Detergents_Paper  Delicassen\n",
       "0        2       3  12669  9656     7561     214              2674        1338\n",
       "1        2       3   7057  9810     9568    1762              3293        1776\n",
       "2        2       3   6353  8808     7684    2405              3516        7844\n",
       "3        1       3  13265  1196     4221    6404               507        1788\n",
       "4        2       3  22615  5410     7198    3915              1777        5185"
      ]
     },
     "execution_count": 11,
     "metadata": {},
     "output_type": "execute_result"
    }
   ],
   "source": [
    "data.head()"
   ]
  },
  {
   "cell_type": "code",
   "execution_count": 12,
   "metadata": {},
   "outputs": [],
   "source": [
    "# Se selecionan unos datos al azar para posteriormente verificar el clúster al que pertenecen\n",
    "indices = [26, 176, 392]\n",
    "muestras = pd.DataFrame(data.loc[indices], \n",
    "                       columns = data.keys()).reset_index(drop = True)\n",
    "data = data.drop(indices, axis = 0)"
   ]
  },
  {
   "cell_type": "code",
   "execution_count": 13,
   "metadata": {},
   "outputs": [],
   "source": [
    "# Eliminamos las columnas de región y canal \n",
    "data = data.drop(['Region', 'Channel'], axis = 1)\n",
    "muestras = muestras.drop(['Region', 'Channel'], axis = 1)"
   ]
  },
  {
   "cell_type": "code",
   "execution_count": 14,
   "metadata": {},
   "outputs": [],
   "source": [
    "# Se realiza el escalamiento de los datos\n",
    "from sklearn import preprocessing\n",
    "data_escalada = preprocessing.Normalizer().fit_transform(data)\n",
    "muestras_escalada = preprocessing.Normalizer().fit_transform(muestras)"
   ]
  },
  {
   "cell_type": "code",
   "execution_count": 15,
   "metadata": {},
   "outputs": [],
   "source": [
    "# Empezamos analísis de Machine Learning\n",
    "from sklearn.cluster import KMeans"
   ]
  },
  {
   "cell_type": "code",
   "execution_count": 16,
   "metadata": {},
   "outputs": [],
   "source": [
    "# Se determinan las variables a evaluar\n",
    "X = data_escalada.copy()"
   ]
  },
  {
   "cell_type": "code",
   "execution_count": 17,
   "metadata": {},
   "outputs": [
    {
     "data": {
      "image/png": "[encoded data removed]",
      "text/plain": [
       "<Figure size 720x432 with 1 Axes>"
      ]
     },
     "metadata": {
      "needs_background": "light"
     },
     "output_type": "display_data"
    }
   ],
   "source": [
    "# Hallar el valor óptimo de K \n",
    "# Se aplicará el método de codo para hallar K\n",
    "# Se calcula el algoritmo de agrupación para diferentes valores de K\n",
    "inercia = [] \n",
    "for i in range(1, 20):\n",
    "    algoritmo = KMeans(n_clusters = i, init = 'k-means++', \n",
    "                       max_iter = 300, n_init = 10)\n",
    "    algoritmo.fit(X)\n",
    "    # Para cada K, se calcula la suma total del cuadrado dentro del clúster\n",
    "    inercia.append(algoritmo.inertia_)\n",
    "# Se traza la curva de la suma de errores cuadráticos \n",
    "plt.figure(figsize=[10,6])\n",
    "plt.title('Método del Codo')\n",
    "plt.xlabel('No. de clusters')\n",
    "plt.ylabel('Inercia')\n",
    "plt.plot(list(range(1, 20)), inercia, marker='o')\n",
    "plt.show()"
   ]
  },
  {
   "cell_type": "code",
   "execution_count": 28,
   "metadata": {},
   "outputs": [],
   "source": [
    "# Se aplica el algoritmo de clustering \n",
    "# Se define el algoritmo junto con el valor de K\n",
    "algoritmo = KMeans(n_clusters = 6, init = 'k-means++', \n",
    "                   max_iter = 300, n_init = 10)"
   ]
  },
  {
   "cell_type": "code",
   "execution_count": 34,
   "metadata": {},
   "outputs": [
    {
     "data": {
      "text/plain": [
       "KMeans(n_clusters=6)"
      ]
     },
     "execution_count": 34,
     "metadata": {},
     "output_type": "execute_result"
    }
   ],
   "source": [
    "# Se entrena el algoritmo\n",
    "algoritmo.fit(X)"
   ]
  },
  {
   "cell_type": "code",
   "execution_count": 38,
   "metadata": {},
   "outputs": [],
   "source": [
    "# Se obtienen los datos de los centroides y las etiquetas\n",
    "centroides, etiquetas = algoritmo.cluster_centers_, algoritmo.labels_"
   ]
  },
  {
   "cell_type": "code",
   "execution_count": 39,
   "metadata": {},
   "outputs": [
    {
     "name": "stdout",
     "output_type": "stream",
     "text": [
      "Muestra 0 se encuentra en el clúster: 3\n",
      "Muestra 1 se encuentra en el clúster: 3\n",
      "Muestra 2 se encuentra en el clúster: 5\n"
     ]
    }
   ],
   "source": [
    "# Utilicemos los datos de muestras y verifiquemos en que cluster se encuentran\n",
    "muestra_prediccion = algoritmo.predict(muestras_escalada)\n",
    "for i, pred in enumerate(muestra_prediccion):\n",
    "    print(\"Muestra\", i, \"se encuentra en el clúster:\", pred)"
   ]
  },
  {
   "cell_type": "code",
   "execution_count": 40,
   "metadata": {},
   "outputs": [
    {
     "data": {
      "image/png": "[encoded data removed]",
      "text/plain": [
       "<Figure size 432x288 with 1 Axes>"
      ]
     },
     "metadata": {
      "needs_background": "light"
     },
     "output_type": "display_data"
    }
   ],
   "source": [
    "# Graficar los datos junto a los resultados\n",
    "# Se aplica la reducción de dimensionalidad a los datos\n",
    "from sklearn.decomposition import PCA\n",
    "modelo_pca = PCA(n_components = 2)\n",
    "modelo_pca.fit(X)\n",
    "pca = modelo_pca.transform(X) \n",
    "#Se aplica la reducción de dimsensionalidad a los centroides\n",
    "centroides_pca = modelo_pca.transform(centroides)\n",
    "# Se definen los colores de cada clúster\n",
    "colores = ['blue', 'red', 'green', 'orange', 'gray', 'brown']\n",
    "# Se asignan los colores a cada clúster\n",
    "colores_cluster = [colores[etiquetas[i]] for i in range(len(pca))]\n",
    "# Se grafican los componentes PCA\n",
    "plt.scatter(pca[:, 0], pca[:, 1], c = colores_cluster, \n",
    "            marker = 'o',alpha = 0.4)\n",
    "# Se grafican los centroides\n",
    "plt.scatter(centroides_pca[:, 0], centroides_pca[:, 1],\n",
    "            marker = 'x', s = 100, linewidths = 3, c = colores)\n",
    "# Se guadan los datos en una variable para que sea fácil escribir el código\n",
    "xvector = modelo_pca.components_[0] * max(pca[:,0])\n",
    "yvector = modelo_pca.components_[1] * max(pca[:,1])\n",
    "columnas = data.columns\n",
    "# Se grafican los nombres de los clústeres con la distancia del vector\n",
    "for i in range(len(columnas)):\n",
    "    # Se grafican los vectores\n",
    "    plt.arrow(0, 0, xvector[i], yvector[i], color = 'black', \n",
    "              width = 0.0005, head_width = 0.02, alpha = 0.75)\n",
    "    # Se colocan los nombres\n",
    "    plt.text(xvector[i], yvector[i], list(columnas)[i], color='black', \n",
    "             alpha=0.75)\n",
    "plt.show()"
   ]
  },
  {
   "cell_type": "markdown",
   "metadata": {},
   "source": [
    "EJERCICIO"
   ]
  },
  {
   "cell_type": "markdown",
   "metadata": {},
   "source": [
    "Para revisar el diferente comportamiento de las gráficas (método del codo y la gráfica de resultados) se realizarán las siguientes acciones:\n",
    "    \n",
    "    1.Modificar el número de muestras, puede ser del 0 al 400.\n",
    "    2.Modificar max_iter y n_init para alterar el comportamiento del método del codo.\n",
    "    Se aplica el algoritmo de clustering \n",
    "En el apartado donde se define el algoritmo junto con el valor de K\n",
    "\n",
    "    3.Modificar el número de cluster puede ser entre 5 ó 6.\n",
    "    4.Modificar max_iter y n_init (Los mismos que se agregaron en el método del codo).\n",
    "    "
   ]
  },
  {
   "cell_type": "markdown",
   "metadata": {},
   "source": [
    "Como resultado las gráficas deben de variar dependiendo de los diferetes números que se estarán agregando."
   ]
  },
  {
   "cell_type": "code",
   "execution_count": null,
   "metadata": {},
   "outputs": [],
   "source": [
    "# Hallar el valor óptimo de K \n",
    "# Se aplicará el método de codo para hallar K\n",
    "# Se calcula el algoritmo de agrupación para diferentes valores de K\n",
    "\n",
    "    # Para cada K, se calcula la suma total del cuadrado dentro del clúster\n",
    "   \n",
    "#Se traza la curva de la suma de errores cuadráticos \n"
   ]
  },
  {
   "cell_type": "code",
   "execution_count": null,
   "metadata": {},
   "outputs": [],
   "source": [
    "# Se aplica el algoritmo de clustering \n",
    "# Se define el algoritmo junto con el valor de K\n"
   ]
  },
  {
   "cell_type": "code",
   "execution_count": null,
   "metadata": {},
   "outputs": [],
   "source": [
    "# Se entrena el algoritmo\n"
   ]
  },
  {
   "cell_type": "code",
   "execution_count": null,
   "metadata": {},
   "outputs": [],
   "source": [
    "# Se obtienen los datos de los centroides y las etiquetas\n"
   ]
  },
  {
   "cell_type": "code",
   "execution_count": null,
   "metadata": {},
   "outputs": [],
   "source": [
    "# Utilicemos los datos de muestras y verifiquemos en que cluster se encuentran\n"
   ]
  },
  {
   "cell_type": "code",
   "execution_count": null,
   "metadata": {},
   "outputs": [],
   "source": [
    "# Graficar los datos junto a los resultados"
   ]
  }
 ],
 "metadata": {
  "kernelspec": {
   "display_name": "Python 3",
   "language": "python",
   "name": "python3"
  },
  "language_info": {
   "codemirror_mode": {
    "name": "ipython",
    "version": 3
   },
   "file_extension": ".py",
   "mimetype": "text/x-python",
   "name": "python",
   "nbconvert_exporter": "python",
   "pygments_lexer": "ipython3",
   "version": "3.8.3"
  }
 },
 "nbformat": 4,
 "nbformat_minor": 4
}
